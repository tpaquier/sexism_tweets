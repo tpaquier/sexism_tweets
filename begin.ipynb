{
 "cells": [
  {
   "cell_type": "code",
   "execution_count": 2,
   "id": "452ad336",
   "metadata": {},
   "outputs": [],
   "source": [
    "import pandas as pd\n",
    "import numpy as np\n",
    "import torch\n",
    "import playwright\n",
    "import jmespath\n",
    "from playwright.sync_api import sync_playwright\n",
    "from twikit import Client\n",
    "import json"
   ]
  },
  {
   "cell_type": "markdown",
   "id": "d1ab13aa",
   "metadata": {},
   "source": [
    "The command to use in order to have access to a tweet with its id is :\n",
    "\n",
    "``twitter.com/anyuser/status/541278904204668929\n",
    "``\n",
    "With 541278904204668929 being an example of a tweet's id."
   ]
  },
  {
   "cell_type": "code",
   "execution_count": 8,
   "id": "fbacd70f",
   "metadata": {},
   "outputs": [],
   "source": [
    "url = 'https://raw.githubusercontent.com/patriChiril/An-Annotated-Corpus-for-Sexism-Detection-in-French-Tweets/refs/heads/master/corpus_SexistContent.csv'\n",
    "df_base = pd.read_csv(url, sep='\\t')"
   ]
  },
  {
   "cell_type": "code",
   "execution_count": 9,
   "id": "207a22e1",
   "metadata": {},
   "outputs": [],
   "source": [
    "df_base.columns = ['id','label']"
   ]
  },
  {
   "cell_type": "code",
   "execution_count": 11,
   "id": "69825deb",
   "metadata": {},
   "outputs": [],
   "source": [
    "df_base.to_csv('data_id.csv')"
   ]
  },
  {
   "cell_type": "code",
   "execution_count": 12,
   "id": "f26b0e4a",
   "metadata": {},
   "outputs": [],
   "source": [
    "import time"
   ]
  },
  {
   "cell_type": "code",
   "execution_count": 14,
   "id": "ecaf410e",
   "metadata": {},
   "outputs": [
    {
     "name": "stderr",
     "output_type": "stream",
     "text": [
      "100%|██████████| 6/6 [00:00<00:00, 25549.06it/s]"
     ]
    },
    {
     "name": "stdout",
     "output_type": "stream",
     "text": [
      "yes\n",
      "yes\n",
      "yes\n",
      "yes\n",
      "yes\n",
      "yes\n"
     ]
    },
    {
     "name": "stderr",
     "output_type": "stream",
     "text": [
      "\n"
     ]
    }
   ],
   "source": [
    "test = [1,1,2,2,2,3]\n",
    "import tqdm\n",
    "for i in tqdm.tqdm(test):\n",
    "    print('yes')"
   ]
  },
  {
   "cell_type": "code",
   "execution_count": null,
   "id": "c25fc598",
   "metadata": {},
   "outputs": [],
   "source": []
  }
 ],
 "metadata": {
  "kernelspec": {
   "display_name": "venv",
   "language": "python",
   "name": "python3"
  },
  "language_info": {
   "codemirror_mode": {
    "name": "ipython",
    "version": 3
   },
   "file_extension": ".py",
   "mimetype": "text/x-python",
   "name": "python",
   "nbconvert_exporter": "python",
   "pygments_lexer": "ipython3",
   "version": "3.13.2"
  }
 },
 "nbformat": 4,
 "nbformat_minor": 5
}
