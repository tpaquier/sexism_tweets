{
 "cells": [
  {
   "cell_type": "code",
   "execution_count": 2,
   "id": "452ad336",
   "metadata": {},
   "outputs": [],
   "source": [
    "import pandas as pd\n",
    "import numpy as np\n",
    "import torch\n",
    "import playwright\n",
    "import jmespath\n",
    "from playwright.sync_api import sync_playwright\n",
    "from twikit import Client\n",
    "import json"
   ]
  },
  {
   "cell_type": "markdown",
   "id": "d1ab13aa",
   "metadata": {},
   "source": [
    "The command to use in order to have access to a tweet with its id is :\n",
    "\n",
    "``twitter.com/anyuser/status/541278904204668929\n",
    "``\n",
    "With 541278904204668929 being an example of a tweet's id."
   ]
  },
  {
   "cell_type": "code",
   "execution_count": 4,
   "id": "fbacd70f",
   "metadata": {},
   "outputs": [
    {
     "name": "stdout",
     "output_type": "stream",
     "text": [
      "   327031890622164993  0\n",
      "0  330425562201993216  0\n",
      "1  326796299179548672  0\n",
      "2  334548844731826176  0\n",
      "3  332500824150392833  0\n",
      "4  334424362033762304  0\n"
     ]
    }
   ],
   "source": [
    "url = 'https://raw.githubusercontent.com/patriChiril/An-Annotated-Corpus-for-Sexism-Detection-in-French-Tweets/refs/heads/master/corpus_SexistContent.csv'\n",
    "df = pd.read_csv(url, sep='\\t')\n",
    "print(df.head(5))"
   ]
  },
  {
   "cell_type": "code",
   "execution_count": 5,
   "id": "f715e472",
   "metadata": {},
   "outputs": [
    {
     "data": {
      "text/plain": [
       "(12273, 2)"
      ]
     },
     "execution_count": 5,
     "metadata": {},
     "output_type": "execute_result"
    }
   ],
   "source": [
    "df.shape"
   ]
  },
  {
   "cell_type": "code",
   "execution_count": null,
   "id": "207a22e1",
   "metadata": {},
   "outputs": [],
   "source": []
  }
 ],
 "metadata": {
  "kernelspec": {
   "display_name": "venv",
   "language": "python",
   "name": "python3"
  },
  "language_info": {
   "codemirror_mode": {
    "name": "ipython",
    "version": 3
   },
   "file_extension": ".py",
   "mimetype": "text/x-python",
   "name": "python",
   "nbconvert_exporter": "python",
   "pygments_lexer": "ipython3",
   "version": "3.13.2"
  }
 },
 "nbformat": 4,
 "nbformat_minor": 5
}
