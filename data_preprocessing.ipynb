{
 "cells": [
  {
   "cell_type": "code",
   "execution_count": null,
   "id": "39b57dc0-00a9-4923-8563-ca493f0d706c",
   "metadata": {},
   "outputs": [],
   "source": [
    "import pandas as pd\n",
    "import gdown"
   ]
  },
  {
   "cell_type": "code",
   "execution_count": null,
   "id": "a4a98206-c5dc-49ab-83ee-1ede949f46c5",
   "metadata": {},
   "outputs": [],
   "source": [
    "url = \"https://drive.google.com/uc?id=16rfiy-WrqBVBsrmE5VZk-Czk10wMAAmF\"\n",
    "output = \"tweets.csv\"\n",
    "gdown.download(url, output, quiet=False)\n"
   ]
  },
  {
   "cell_type": "code",
   "execution_count": null,
   "id": "5a38f25d-1ea2-43bd-bfcb-083492dd63ff",
   "metadata": {},
   "outputs": [],
   "source": [
    "tweets = pd.read_csv('tweets.csv', encoding='utf-8')\n",
    "tweets.head(10)"
   ]
  },
  {
   "cell_type": "markdown",
   "id": "a72d0f12-5532-4e6a-a419-b59b59d93dbe",
   "metadata": {},
   "source": [
    "# Text preprocessing"
   ]
  },
  {
   "cell_type": "markdown",
   "id": "fd2f2f16-fa86-4080-9f46-1de23a65ca09",
   "metadata": {},
   "source": [
    "### Cleaning text"
   ]
  },
  {
   "cell_type": "code",
   "execution_count": null,
   "id": "acef7d98-b5ee-4211-8373-a702a93d6b5c",
   "metadata": {},
   "outputs": [],
   "source": [
    "tweets = tweets.dropna(subset=['text'])"
   ]
  },
  {
   "cell_type": "code",
   "execution_count": null,
   "id": "f35dd3bb-abaf-4cc4-af99-aed7d787098b",
   "metadata": {},
   "outputs": [],
   "source": [
    "tweets['text_clean'] = tweets[\"text\"].map(lambda x: x.lower() if isinstance(x, str) else x)\n",
    "tweets.head(10)"
   ]
  },
  {
   "cell_type": "markdown",
   "id": "90d0b739-38e9-43d5-a93c-e9008c88ae71",
   "metadata": {},
   "source": [
    "### Removing URLs"
   ]
  },
  {
   "cell_type": "code",
   "execution_count": null,
   "id": "0ad0a6de-3d07-4ba8-b12b-809adc5870ef",
   "metadata": {},
   "outputs": [],
   "source": [
    "import re\n",
    "\n",
    "url_pattern = re.compile(r'https?://\\S+')\n",
    "\n",
    "def remove_urls(text):\n",
    "  return url_pattern.sub('', text)\n",
    "\n",
    "\n",
    "tweets['text_clean'] =  tweets['text_clean'].apply(remove_urls)\n",
    "tweets.head(10)"
   ]
  },
  {
   "cell_type": "markdown",
   "id": "3b5da59e-a101-4376-926e-0a6a1a394fca",
   "metadata": {},
   "source": [
    "### Replacing emojis and emoticons by their meanings"
   ]
  },
  {
   "cell_type": "code",
   "execution_count": null,
   "id": "ba0adec3-0a83-4c8a-997d-5576c3252514",
   "metadata": {},
   "outputs": [],
   "source": [
    "import emoji\n",
    "tweets['text_clean'] = tweets['text_clean'].apply(\n",
    "    lambda x: emoji.replace_emoji(x, replace=lambda c, d: f\"[{d['en']}]\" ) if isinstance(x, str) else x\n",
    ")\n",
    "tweets.head(10)"
   ]
  },
  {
   "cell_type": "code",
   "execution_count": null,
   "id": "a0c0ef8c-5eb3-4ca4-86b8-2dea40f13620",
   "metadata": {},
   "outputs": [],
   "source": [
    "from emot.emo_unicode import EMOTICONS_EMO\n",
    "import re\n",
    "\n",
    "def replace_emoticons(text):\n",
    "    if not isinstance(text, str):\n",
    "        return text\n",
    "    for emoticon, meaning in EMOTICONS_EMO.items():\n",
    "        text = re.sub(re.escape(emoticon), f\" {meaning} \", text)\n",
    "    return text\n",
    "\n",
    "tweets['text_clean'] = tweets['text_clean'].apply(replace_emoticons)\n",
    "tweets.head(10)"
   ]
  },
  {
   "cell_type": "markdown",
   "id": "d144bb67-63ea-43c9-ac9d-1ffca0f88b98",
   "metadata": {},
   "source": [
    "### Removing non-word and non-whitespace characters"
   ]
  },
  {
   "cell_type": "code",
   "execution_count": null,
   "id": "111425c4-e3ca-4b97-8f8e-74f1c4c4708b",
   "metadata": {},
   "outputs": [],
   "source": [
    "tweets['text_clean'] = tweets['text_clean'].replace(to_replace = r'[^\\w\\s]', value = '', regex = True)\n",
    "tweets.head(10)"
   ]
  },
  {
   "cell_type": "markdown",
   "id": "785093bb-ce62-4757-8975-c36530729baa",
   "metadata": {},
   "source": [
    "### Tokenization"
   ]
  },
  {
   "cell_type": "code",
   "execution_count": null,
   "id": "0219f5c2-d290-4e32-b26c-dcd6c6518f0f",
   "metadata": {},
   "outputs": [],
   "source": [
    "from transformers import CamembertTokenizer\n",
    "from tqdm import tqdm\n",
    "tqdm.pandas()\n",
    "\n",
    "tokenizer = CamembertTokenizer.from_pretrained(\"camembert/camembert-base\")\n",
    "\n",
    "def tokenize_camembert(text):\n",
    "    return tokenizer.tokenize(text)\n",
    "\n",
    "tweets['text_token'] = tweets['text_clean'].progress_apply(tokenize_camembert)\n",
    "tweets.head(10)"
   ]
  },
  {
   "cell_type": "markdown",
   "id": "e03076d1-3fce-489f-9ad5-7270ec9dc6f7",
   "metadata": {},
   "source": [
    "### Removing stopwords"
   ]
  },
  {
   "cell_type": "code",
   "execution_count": null,
   "id": "1fa634bf-b43f-4f4b-835e-f04a33b1755d",
   "metadata": {},
   "outputs": [],
   "source": [
    "#stopwords = [x.strip() for x in open('stop_word_fr.txt').readlines()]\n",
    "#tweets['text_token'] = tweets['text_token'].apply(lambda x: [word for word in x if word not in stopwords])\n",
    "#tweets.head(10)"
   ]
  },
  {
   "cell_type": "code",
   "execution_count": null,
   "id": "26e8a2a1-4392-4d31-9d0d-f432c257d850",
   "metadata": {},
   "outputs": [],
   "source": [
    "tweets.to_csv('tweets_prepro.csv')"
   ]
  }
 ],
 "metadata": {
  "kernelspec": {
   "display_name": "Python 3 (ipykernel)",
   "language": "python",
   "name": "python3"
  },
  "language_info": {
   "codemirror_mode": {
    "name": "ipython",
    "version": 3
   },
   "file_extension": ".py",
   "mimetype": "text/x-python",
   "name": "python",
   "nbconvert_exporter": "python",
   "pygments_lexer": "ipython3",
   "version": "3.12.9"
  }
 },
 "nbformat": 4,
 "nbformat_minor": 5
}
