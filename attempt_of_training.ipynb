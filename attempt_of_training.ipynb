{
 "cells": [
  {
   "cell_type": "markdown",
   "id": "fcb514da-cd29-430f-b1fc-ff538945e159",
   "metadata": {},
   "source": [
    "### Loading preprocessed corpus"
   ]
  },
  {
   "cell_type": "code",
   "execution_count": null,
   "id": "3b1bb877-637e-41c4-b16c-803532599379",
   "metadata": {},
   "outputs": [],
   "source": [
    "%run data_preprocessing.ipynb"
   ]
  },
  {
   "cell_type": "code",
   "execution_count": null,
   "id": "29f78073-44f3-4468-8a59-ea07ec1bb04a",
   "metadata": {},
   "outputs": [],
   "source": [
    "tweets_label = pd.read_csv('tweets_prepro.csv')"
   ]
  },
  {
   "cell_type": "markdown",
   "id": "d3f3c2cd-6924-495a-88ad-559b713400e0",
   "metadata": {},
   "source": [
    "### Loading annotated corpus"
   ]
  },
  {
   "cell_type": "code",
   "execution_count": null,
   "id": "9605442e-a88e-4dfa-8ac5-cb60491d1f04",
   "metadata": {},
   "outputs": [],
   "source": [
    "annotated_corpus = pd.read_csv('corpus_SexistContent.csv', sep='\\t', header=None, names=['tweet_id', 'label'])"
   ]
  },
  {
   "cell_type": "markdown",
   "id": "8ad39df2-96a8-47b2-a1ce-305df29b1e17",
   "metadata": {},
   "source": [
    "### Merging to recuperate labels of tweets"
   ]
  },
  {
   "cell_type": "code",
   "execution_count": null,
   "id": "71e1695c-2a61-4253-a8ed-2c8a15b07703",
   "metadata": {},
   "outputs": [],
   "source": [
    "tweets_label = pd.merge(tweets_label, annotated_corpus, on = 'tweet_id')"
   ]
  },
  {
   "cell_type": "markdown",
   "id": "c5064184-14d5-47c8-9822-e79819f530b0",
   "metadata": {},
   "source": [
    "### Converting into a dataset for Pytorch to train model"
   ]
  },
  {
   "cell_type": "code",
   "execution_count": null,
   "id": "1ef936c9-ed25-4a0c-9f8c-91b34dcee1e9",
   "metadata": {},
   "outputs": [],
   "source": [
    "from datasets import Dataset\n",
    "dataset = Dataset.from_pandas(tweets_label)\n",
    "encoded_dataset = dataset.map(lambda tweets: tokenizer(tweets['text_clean']), batched=True)\n"
   ]
  },
  {
   "cell_type": "markdown",
   "id": "b3986f63-ef1a-454a-9a9c-977af51c2d2b",
   "metadata": {},
   "source": [
    "### Splitting into train and test"
   ]
  },
  {
   "cell_type": "markdown",
   "id": "013551fd-0fe6-4a44-b627-94c19034b3f0",
   "metadata": {},
   "source": [
    "### Training model"
   ]
  },
  {
   "cell_type": "code",
   "execution_count": null,
   "id": "fc9c2730-9211-46c9-a84f-d253ea79a48b",
   "metadata": {},
   "outputs": [],
   "source": [
    "#On utilise cette fonction car celle de sklearn ne marche pas pour les datasets.\n",
    "#Seed = 42 pour qu'on ait le même découpage train/test à chaque fois\n",
    "dataset_split = encoded_dataset.train_test_split(test_size=0.2, seed= 42)\n",
    "train = dataset_split[\"train\"]\n",
    "test = dataset_split[\"test\"]"
   ]
  },
  {
   "cell_type": "code",
   "execution_count": null,
   "id": "9ee5e4d3-5754-4286-bd8a-f901f5409617",
   "metadata": {},
   "outputs": [],
   "source": [
    "from transformers import CamembertForSequenceClassification, TrainingArguments, Trainer\n",
    "model = CamembertForSequenceClassification.from_pretrained(\"camembert-base\", num_labels=2)\n",
    "\n",
    "training_args = TrainingArguments(\n",
    "    output_dir=\"results_of_model\",\n",
    "    learning_rate=2e-5,\n",
    "    per_device_train_batch_size=32,\n",
    "    per_device_eval_batch_size=32,\n",
    "    num_train_epochs=2,\n",
    "    push_to_hub=False,\n",
    ")\n",
    "\n",
    "trainer = Trainer(\n",
    "    model=model,\n",
    "    args=training_args,\n",
    "    train_dataset=train,\n",
    "    eval_dataset=test,    \n",
    "    processing_class=tokenizer,          \n",
    ")\n",
    "\n",
    "trainer.train()"
   ]
  }
 ],
 "metadata": {
  "kernelspec": {
   "display_name": "Python 3 (ipykernel)",
   "language": "python",
   "name": "python3"
  },
  "language_info": {
   "codemirror_mode": {
    "name": "ipython",
    "version": 3
   },
   "file_extension": ".py",
   "mimetype": "text/x-python",
   "name": "python",
   "nbconvert_exporter": "python",
   "pygments_lexer": "ipython3",
   "version": "3.12.9"
  }
 },
 "nbformat": 4,
 "nbformat_minor": 5
}
