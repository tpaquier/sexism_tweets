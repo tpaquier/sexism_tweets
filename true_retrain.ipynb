{
 "cells": [
  {
   "cell_type": "code",
   "execution_count": null,
   "id": "508b28e6-fae4-40b8-a5ad-8c8b8a9ba984",
   "metadata": {},
   "outputs": [],
   "source": [
    "%%capture\n",
    "!pip install -r requirements.txt"
   ]
  },
  {
   "cell_type": "code",
   "execution_count": null,
   "id": "8e98c7d2-151b-4584-8c51-3824572cf4fe",
   "metadata": {},
   "outputs": [],
   "source": [
    "import torch\n",
    "from tqdm import tqdm\n",
    "import pandas as pd\n",
    "import pickle"
   ]
  },
  {
   "cell_type": "code",
   "execution_count": null,
   "id": "b2190e79-c9f8-4f0c-9ad8-b9d4015851f6",
   "metadata": {},
   "outputs": [],
   "source": [
    "%run data_preprocessing.ipynb"
   ]
  },
  {
   "cell_type": "code",
   "execution_count": null,
   "id": "41851298-8f5f-4ae8-8fe9-1f6a474c1eca",
   "metadata": {},
   "outputs": [],
   "source": [
    "df = pd.read_csv('tweets_prepro.csv')"
   ]
  },
  {
   "cell_type": "code",
   "execution_count": null,
   "id": "548b4ba6-5722-42ef-b3ed-e63d55a313fc",
   "metadata": {},
   "outputs": [],
   "source": [
    "import torch\n",
    "\n",
    "# Step 1: Tokenize and encode in one go\n",
    "encoded_sentence = tokenizer.encode(\"J'aime le camembert !\", return_tensors='pt')\n",
    "\n",
    "# encoded_sentence is now a tensor of shape (1, sequence_length)\n",
    "\n",
    "# Step 2: Pass through CamemBERT\n",
    "outputs = camembert(encoded_sentence)\n",
    "\n",
    "# Step 3: Extract token embeddings\n",
    "embeddings = outputs.last_hidden_state  # shape: (1, seq_len, hidden_dim)\n"
   ]
  },
  {
   "cell_type": "code",
   "execution_count": null,
   "id": "2108523d-e1a5-4281-b77b-e2d996a3b6a7",
   "metadata": {},
   "outputs": [],
   "source": [
    "#sentence_embedding = embeddings.mean(dim=1)  # average over tokens"
   ]
  },
  {
   "cell_type": "code",
   "execution_count": null,
   "id": "daf479e5-9909-4ad1-8465-f7f883453416",
   "metadata": {},
   "outputs": [],
   "source": [
    "embeddings.shape"
   ]
  },
  {
   "cell_type": "code",
   "execution_count": null,
   "id": "0ad5cff4-62af-4ec3-8229-c22e4ed33a16",
   "metadata": {},
   "outputs": [],
   "source": [
    "annotated_corpus = pd.read_csv('corpus_SexistContent.csv', sep='\\t', header=None, names=['tweet_id', 'label'])\n",
    "df_whole = pd.merge(df, annotated_corpus, on = 'tweet_id')"
   ]
  },
  {
   "cell_type": "code",
   "execution_count": null,
   "id": "d48b72af-4f03-4747-9641-f1e2c7c4a4be",
   "metadata": {},
   "outputs": [],
   "source": [
    "import pandas as pd\n",
    "import torch\n",
    "import numpy as np\n",
    "import pickle\n",
    "from transformers import CamembertTokenizer, CamembertModel\n",
    "\n",
    "# Load model and tokenizer\n",
    "tokenizer = CamembertTokenizer.from_pretrained(\"camembert-base\")\n",
    "model = CamembertModel.from_pretrained(\"camembert-base\")\n",
    "\n",
    "# Dictionary to store everything\n",
    "embeddings_dict = {}\n",
    "\n",
    "# Process each row\n",
    "for _, row in tqdm(df_whole.iterrows()):\n",
    "    sentence = row['text_clean']\n",
    "    label = row['label']\n",
    "    \n",
    "    # Tokenize and encode sentence (with special tokens)\n",
    "    inputs = tokenizer(sentence, return_tensors='pt', truncation=True, padding=False)\n",
    "    \n",
    "    with torch.no_grad():\n",
    "        outputs = model(**inputs)\n",
    "        # Extract per-token embeddings (shape: [1, seq_len, 768] -> [seq_len, 768])\n",
    "        token_embeddings = outputs.last_hidden_state.squeeze(0).numpy()\n",
    "    \n",
    "    # Save to dictionary\n",
    "    embeddings_dict[sentence] = {\n",
    "        \"embeddings\": token_embeddings,  # shape: (num_tokens, 768)\n",
    "        \"label\": label\n",
    "    }\n",
    "\n",
    "# Save to .pkl\n",
    "with open(\"labeled_token_embeddings.pkl\", \"wb\") as f:\n",
    "    pickle.dump(embeddings_dict, f)\n"
   ]
  },
  {
   "cell_type": "code",
   "execution_count": null,
   "id": "d307763f-e643-4d7f-9b77-97d5523e3b34",
   "metadata": {},
   "outputs": [],
   "source": [
    "embeddings_dict[df.loc[0,'text_clean']]"
   ]
  },
  {
   "cell_type": "code",
   "execution_count": null,
   "id": "29a93912-5d08-47a5-b784-db43fcd66ff1",
   "metadata": {},
   "outputs": [],
   "source": []
  }
 ],
 "metadata": {
  "kernelspec": {
   "display_name": "Python 3 (ipykernel)",
   "language": "python",
   "name": "python3"
  },
  "language_info": {
   "codemirror_mode": {
    "name": "ipython",
    "version": 3
   },
   "file_extension": ".py",
   "mimetype": "text/x-python",
   "name": "python",
   "nbconvert_exporter": "python",
   "pygments_lexer": "ipython3",
   "version": "3.12.9"
  }
 },
 "nbformat": 4,
 "nbformat_minor": 5
}
