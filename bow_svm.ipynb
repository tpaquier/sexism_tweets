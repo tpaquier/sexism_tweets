{
 "cells": [
  {
   "cell_type": "code",
   "execution_count": null,
   "id": "398a023b-d43b-4e13-aaa3-cd0852564795",
   "metadata": {},
   "outputs": [],
   "source": [
    "!pip install -r requirements.txt"
   ]
  },
  {
   "cell_type": "code",
   "execution_count": null,
   "id": "f2cf9701-1632-4d00-ac7e-88c124b3ced3",
   "metadata": {},
   "outputs": [],
   "source": [
    "%run data_preprocessing.ipynb"
   ]
  },
  {
   "cell_type": "code",
   "execution_count": null,
   "id": "d994f295-63de-418d-89f8-be5f13238765",
   "metadata": {},
   "outputs": [],
   "source": [
    "tweets = pd.read_csv('tweets_prepro.csv')\n",
    "labels = pd.read_csv('corpus_SexistContent.csv', sep='\\t', header=None, names=['tweet_id', 'label'])\n",
    "df = pd.merge(tweets, labels, on = 'tweet_id')"
   ]
  },
  {
   "cell_type": "code",
   "execution_count": null,
   "id": "256d2e23-e336-4b46-948b-2e2d0dd4ae1c",
   "metadata": {},
   "outputs": [],
   "source": [
    "stopwords = [x.strip() for x in open('stop_word_fr.txt').readlines()]\n",
    "\n",
    "def remove_stopwords(text, stopwords=stopwords):\n",
    "    return ' '.join([word for word in text.split() if word not in stopwords])\n",
    "\n",
    "df['text_clean'] = df['text_clean'].apply(remove_stopwords)"
   ]
  },
  {
   "cell_type": "code",
   "execution_count": null,
   "id": "80404d67-6526-43e1-93ec-9870301dcdfc",
   "metadata": {},
   "outputs": [],
   "source": [
    "from sklearn.model_selection import train_test_split\n",
    "\n",
    "X_train,X_test,y_train,y_test = train_test_split(df['text_clean'],df['label'],test_size=0.2)"
   ]
  },
  {
   "cell_type": "code",
   "execution_count": null,
   "id": "83e3251f-258e-479a-948f-52fc38b83912",
   "metadata": {},
   "outputs": [],
   "source": [
    "from sklearn.feature_extraction.text import CountVectorizer, TfidfTransformer\n",
    "from sklearn.svm import LinearSVC\n",
    "from sklearn.metrics import classification_report, confusion_matrix, ConfusionMatrixDisplay\n",
    "\n",
    "# BoW \n",
    "vectorizer = CountVectorizer(max_features=1000, ngram_range=(1, 3))\n",
    "X_train_counts = vectorizer.fit_transform(X_train)\n",
    "X_test_counts = vectorizer.transform(X_test)\n",
    "\n",
    "# TF-IDF\n",
    "tf_transformer = TfidfTransformer()\n",
    "X_train_tf = tf_transformer.fit_transform(X_train_counts)\n",
    "X_test_tf = tf_transformer.transform(X_test_counts)\n",
    "\n",
    "# SVM model\n",
    "clf = LinearSVC(C=0.1, class_weight='balanced')\n",
    "clf.fit(X_train_tf, y_train)\n",
    "y_pred = clf.predict(X_test_tf)\n",
    "\n",
    "\n",
    "print(classification_report(y_test, y_pred))\n",
    "cm = confusion_matrix(y_test, y_pred)\n",
    "disp = ConfusionMatrixDisplay(confusion_matrix=cm)\n",
    "disp.plot()"
   ]
  },
  {
   "cell_type": "code",
   "execution_count": null,
   "id": "d7b365ac-e9ab-4c76-896d-9ee666a5f817",
   "metadata": {},
   "outputs": [],
   "source": [
    "from sklearn.manifold import TSNE\n",
    "import matplotlib.pyplot as plt\n",
    "\n",
    "\n",
    "tsne = TSNE(n_components=2, perplexity=30, random_state=42)\n",
    "X_embedded = tsne.fit_transform(X_train_tf.toarray())\n",
    "\n",
    "\n",
    "plt.figure(figsize=(10, 7))\n",
    "plt.scatter(X_embedded[:, 0], X_embedded[:, 1], c=y_train, cmap='coolwarm', alpha=0.6)\n",
    "plt.title(\"t-SNE projection of TF-IDF vectors\")\n",
    "plt.xlabel(\"t-SNE dim 1\")\n",
    "plt.ylabel(\"t-SNE dim 2\")\n",
    "plt.colorbar(label='Label')\n",
    "plt.savefig(\"tsne_projection.png\", dpi=300, bbox_inches='tight')\n",
    "plt.show()"
   ]
  }
 ],
 "metadata": {
  "kernelspec": {
   "display_name": "Python 3 (ipykernel)",
   "language": "python",
   "name": "python3"
  },
  "language_info": {
   "codemirror_mode": {
    "name": "ipython",
    "version": 3
   },
   "file_extension": ".py",
   "mimetype": "text/x-python",
   "name": "python",
   "nbconvert_exporter": "python",
   "pygments_lexer": "ipython3",
   "version": "3.12.9"
  }
 },
 "nbformat": 4,
 "nbformat_minor": 5
}
